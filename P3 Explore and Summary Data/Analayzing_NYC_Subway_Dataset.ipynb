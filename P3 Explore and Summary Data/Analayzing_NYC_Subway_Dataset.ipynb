{
 "cells": [
  {
   "cell_type": "markdown",
   "metadata": {},
   "source": [
    "This documment summarized the analysis of the New York City Subway Dataset. It was also a part of final project submission for the project \"Introduction for Data Science\", Udacity Data Analyst Nanodegree Program.\n"
   ]
  },
  {
   "cell_type": "markdown",
   "metadata": {},
   "source": [
    "## Analyzing the New York City Subway Dataset"
   ]
  },
  {
   "cell_type": "markdown",
   "metadata": {},
   "source": [
    "### Load the data"
   ]
  },
  {
   "cell_type": "code",
   "execution_count": 2,
   "metadata": {
    "collapsed": false
   },
   "outputs": [
    {
     "data": {
      "text/plain": [
       "'/Users/thuy/Documents/Data-Science'"
      ]
     },
     "execution_count": 2,
     "metadata": {},
     "output_type": "execute_result"
    }
   ],
   "source": [
    "import os\n",
    "os.getcwd()"
   ]
  },
  {
   "cell_type": "code",
   "execution_count": 3,
   "metadata": {
    "collapsed": false
   },
   "outputs": [
    {
     "name": "stdout",
     "output_type": "stream",
     "text": [
      "Analyzing the NYC Subway Dataset.ipynb          hr_by_team_year_sf_la.csv\r\n",
      "Final_Analayzing_NYC_Subway_Dataset.ipynb       hr_year.csv\r\n",
      "\u001b[34mP2_Wrangling_Subway_Data\u001b[m\u001b[m/                       lesson01.ipynb\r\n",
      "Problem set 3.ipynb                             lesson3_Data_analysis.ipynb\r\n",
      "Project4_all_functions.ipynb                    lesson4_visualization.ipynb\r\n",
      "README.md                                       loading_wrangling_data_lesson02.ipynb\r\n",
      "Updated-Analyzing the NYC Subway Dataset.ipynb  turnstile_data_master_with_weather (1).csv\r\n",
      "baseball_stats.csv\r\n"
     ]
    }
   ],
   "source": [
    "ls"
   ]
  },
  {
   "cell_type": "markdown",
   "metadata": {},
   "source": [
    "###Summary of the data"
   ]
  },
  {
   "cell_type": "code",
   "execution_count": 258,
   "metadata": {
    "collapsed": false
   },
   "outputs": [
    {
     "name": "stdout",
     "output_type": "stream",
     "text": [
      "Total variables: 22\n",
      "List of variables:  ['Unnamed: 0', 'UNIT', 'DATEn', 'TIMEn', 'Hour', 'DESCn', 'ENTRIESn_hourly', 'EXITSn_hourly', 'maxpressurei', 'maxdewpti', 'mindewpti', 'minpressurei', 'meandewpti', 'meanpressurei', 'fog', 'rain', 'meanwindspdi', 'mintempi', 'meantempi', 'maxtempi', 'precipi', 'thunder']\n",
      "Statistics summary\n"
     ]
    },
    {
     "data": {
      "text/html": [
       "<div>\n",
       "<table border=\"1\" class=\"dataframe\">\n",
       "  <thead>\n",
       "    <tr style=\"text-align: right;\">\n",
       "      <th></th>\n",
       "      <th>Unnamed: 0</th>\n",
       "      <th>Hour</th>\n",
       "      <th>ENTRIESn_hourly</th>\n",
       "      <th>EXITSn_hourly</th>\n",
       "      <th>maxpressurei</th>\n",
       "      <th>maxdewpti</th>\n",
       "      <th>mindewpti</th>\n",
       "      <th>minpressurei</th>\n",
       "      <th>meandewpti</th>\n",
       "      <th>meanpressurei</th>\n",
       "      <th>fog</th>\n",
       "      <th>rain</th>\n",
       "      <th>meanwindspdi</th>\n",
       "      <th>mintempi</th>\n",
       "      <th>meantempi</th>\n",
       "      <th>maxtempi</th>\n",
       "      <th>precipi</th>\n",
       "      <th>thunder</th>\n",
       "    </tr>\n",
       "  </thead>\n",
       "  <tbody>\n",
       "    <tr>\n",
       "      <th>count</th>\n",
       "      <td>131951.000000</td>\n",
       "      <td>131951.000000</td>\n",
       "      <td>131951.000000</td>\n",
       "      <td>131951.000000</td>\n",
       "      <td>131951.000000</td>\n",
       "      <td>131951.000000</td>\n",
       "      <td>131951.000000</td>\n",
       "      <td>131951.000000</td>\n",
       "      <td>131951.000000</td>\n",
       "      <td>131951.000000</td>\n",
       "      <td>131951.000000</td>\n",
       "      <td>131951.000000</td>\n",
       "      <td>131951.000000</td>\n",
       "      <td>131951.000000</td>\n",
       "      <td>131951.000000</td>\n",
       "      <td>131951.000000</td>\n",
       "      <td>131951.000000</td>\n",
       "      <td>131951</td>\n",
       "    </tr>\n",
       "    <tr>\n",
       "      <th>mean</th>\n",
       "      <td>65975.000000</td>\n",
       "      <td>10.896158</td>\n",
       "      <td>1095.348478</td>\n",
       "      <td>886.890838</td>\n",
       "      <td>30.031894</td>\n",
       "      <td>57.241302</td>\n",
       "      <td>48.259013</td>\n",
       "      <td>29.892714</td>\n",
       "      <td>52.703526</td>\n",
       "      <td>29.965077</td>\n",
       "      <td>0.167100</td>\n",
       "      <td>0.334245</td>\n",
       "      <td>5.543065</td>\n",
       "      <td>56.169775</td>\n",
       "      <td>64.269729</td>\n",
       "      <td>71.769968</td>\n",
       "      <td>0.172276</td>\n",
       "      <td>0</td>\n",
       "    </tr>\n",
       "    <tr>\n",
       "      <th>std</th>\n",
       "      <td>38091.117022</td>\n",
       "      <td>6.892084</td>\n",
       "      <td>2337.015421</td>\n",
       "      <td>2008.604886</td>\n",
       "      <td>0.125689</td>\n",
       "      <td>8.770891</td>\n",
       "      <td>11.305312</td>\n",
       "      <td>0.146384</td>\n",
       "      <td>9.943590</td>\n",
       "      <td>0.130461</td>\n",
       "      <td>0.373066</td>\n",
       "      <td>0.471728</td>\n",
       "      <td>1.982441</td>\n",
       "      <td>6.338875</td>\n",
       "      <td>6.568289</td>\n",
       "      <td>7.627218</td>\n",
       "      <td>0.429005</td>\n",
       "      <td>0</td>\n",
       "    </tr>\n",
       "    <tr>\n",
       "      <th>min</th>\n",
       "      <td>0.000000</td>\n",
       "      <td>0.000000</td>\n",
       "      <td>0.000000</td>\n",
       "      <td>0.000000</td>\n",
       "      <td>29.740000</td>\n",
       "      <td>39.000000</td>\n",
       "      <td>22.000000</td>\n",
       "      <td>29.540000</td>\n",
       "      <td>31.000000</td>\n",
       "      <td>29.640000</td>\n",
       "      <td>0.000000</td>\n",
       "      <td>0.000000</td>\n",
       "      <td>1.000000</td>\n",
       "      <td>46.000000</td>\n",
       "      <td>55.000000</td>\n",
       "      <td>58.000000</td>\n",
       "      <td>0.000000</td>\n",
       "      <td>0</td>\n",
       "    </tr>\n",
       "    <tr>\n",
       "      <th>25%</th>\n",
       "      <td>32987.500000</td>\n",
       "      <td>5.000000</td>\n",
       "      <td>39.000000</td>\n",
       "      <td>32.000000</td>\n",
       "      <td>29.960000</td>\n",
       "      <td>50.000000</td>\n",
       "      <td>38.000000</td>\n",
       "      <td>29.840000</td>\n",
       "      <td>45.000000</td>\n",
       "      <td>29.910000</td>\n",
       "      <td>0.000000</td>\n",
       "      <td>0.000000</td>\n",
       "      <td>5.000000</td>\n",
       "      <td>52.000000</td>\n",
       "      <td>60.000000</td>\n",
       "      <td>65.000000</td>\n",
       "      <td>0.000000</td>\n",
       "      <td>0</td>\n",
       "    </tr>\n",
       "    <tr>\n",
       "      <th>50%</th>\n",
       "      <td>65975.000000</td>\n",
       "      <td>12.000000</td>\n",
       "      <td>279.000000</td>\n",
       "      <td>232.000000</td>\n",
       "      <td>30.030000</td>\n",
       "      <td>57.000000</td>\n",
       "      <td>51.000000</td>\n",
       "      <td>29.910000</td>\n",
       "      <td>54.000000</td>\n",
       "      <td>29.960000</td>\n",
       "      <td>0.000000</td>\n",
       "      <td>0.000000</td>\n",
       "      <td>5.000000</td>\n",
       "      <td>54.000000</td>\n",
       "      <td>63.000000</td>\n",
       "      <td>71.000000</td>\n",
       "      <td>0.000000</td>\n",
       "      <td>0</td>\n",
       "    </tr>\n",
       "    <tr>\n",
       "      <th>75%</th>\n",
       "      <td>98962.500000</td>\n",
       "      <td>17.000000</td>\n",
       "      <td>1109.000000</td>\n",
       "      <td>847.000000</td>\n",
       "      <td>30.100000</td>\n",
       "      <td>64.000000</td>\n",
       "      <td>55.000000</td>\n",
       "      <td>29.970000</td>\n",
       "      <td>60.000000</td>\n",
       "      <td>30.050000</td>\n",
       "      <td>0.000000</td>\n",
       "      <td>1.000000</td>\n",
       "      <td>6.000000</td>\n",
       "      <td>60.000000</td>\n",
       "      <td>68.000000</td>\n",
       "      <td>78.000000</td>\n",
       "      <td>0.100000</td>\n",
       "      <td>0</td>\n",
       "    </tr>\n",
       "    <tr>\n",
       "      <th>max</th>\n",
       "      <td>131950.000000</td>\n",
       "      <td>23.000000</td>\n",
       "      <td>51839.000000</td>\n",
       "      <td>45249.000000</td>\n",
       "      <td>30.310000</td>\n",
       "      <td>70.000000</td>\n",
       "      <td>66.000000</td>\n",
       "      <td>30.230000</td>\n",
       "      <td>68.000000</td>\n",
       "      <td>30.270000</td>\n",
       "      <td>1.000000</td>\n",
       "      <td>1.000000</td>\n",
       "      <td>12.000000</td>\n",
       "      <td>70.000000</td>\n",
       "      <td>78.000000</td>\n",
       "      <td>86.000000</td>\n",
       "      <td>2.180000</td>\n",
       "      <td>0</td>\n",
       "    </tr>\n",
       "  </tbody>\n",
       "</table>\n",
       "</div>"
      ],
      "text/plain": [
       "          Unnamed: 0           Hour  ENTRIESn_hourly  EXITSn_hourly  \\\n",
       "count  131951.000000  131951.000000    131951.000000  131951.000000   \n",
       "mean    65975.000000      10.896158      1095.348478     886.890838   \n",
       "std     38091.117022       6.892084      2337.015421    2008.604886   \n",
       "min         0.000000       0.000000         0.000000       0.000000   \n",
       "25%     32987.500000       5.000000        39.000000      32.000000   \n",
       "50%     65975.000000      12.000000       279.000000     232.000000   \n",
       "75%     98962.500000      17.000000      1109.000000     847.000000   \n",
       "max    131950.000000      23.000000     51839.000000   45249.000000   \n",
       "\n",
       "        maxpressurei      maxdewpti      mindewpti   minpressurei  \\\n",
       "count  131951.000000  131951.000000  131951.000000  131951.000000   \n",
       "mean       30.031894      57.241302      48.259013      29.892714   \n",
       "std         0.125689       8.770891      11.305312       0.146384   \n",
       "min        29.740000      39.000000      22.000000      29.540000   \n",
       "25%        29.960000      50.000000      38.000000      29.840000   \n",
       "50%        30.030000      57.000000      51.000000      29.910000   \n",
       "75%        30.100000      64.000000      55.000000      29.970000   \n",
       "max        30.310000      70.000000      66.000000      30.230000   \n",
       "\n",
       "          meandewpti  meanpressurei            fog           rain  \\\n",
       "count  131951.000000  131951.000000  131951.000000  131951.000000   \n",
       "mean       52.703526      29.965077       0.167100       0.334245   \n",
       "std         9.943590       0.130461       0.373066       0.471728   \n",
       "min        31.000000      29.640000       0.000000       0.000000   \n",
       "25%        45.000000      29.910000       0.000000       0.000000   \n",
       "50%        54.000000      29.960000       0.000000       0.000000   \n",
       "75%        60.000000      30.050000       0.000000       1.000000   \n",
       "max        68.000000      30.270000       1.000000       1.000000   \n",
       "\n",
       "        meanwindspdi       mintempi      meantempi       maxtempi  \\\n",
       "count  131951.000000  131951.000000  131951.000000  131951.000000   \n",
       "mean        5.543065      56.169775      64.269729      71.769968   \n",
       "std         1.982441       6.338875       6.568289       7.627218   \n",
       "min         1.000000      46.000000      55.000000      58.000000   \n",
       "25%         5.000000      52.000000      60.000000      65.000000   \n",
       "50%         5.000000      54.000000      63.000000      71.000000   \n",
       "75%         6.000000      60.000000      68.000000      78.000000   \n",
       "max        12.000000      70.000000      78.000000      86.000000   \n",
       "\n",
       "             precipi  thunder  \n",
       "count  131951.000000   131951  \n",
       "mean        0.172276        0  \n",
       "std         0.429005        0  \n",
       "min         0.000000        0  \n",
       "25%         0.000000        0  \n",
       "50%         0.000000        0  \n",
       "75%         0.100000        0  \n",
       "max         2.180000        0  "
      ]
     },
     "execution_count": 258,
     "metadata": {},
     "output_type": "execute_result"
    }
   ],
   "source": [
    "import pandas as pd\n",
    "#Read the data as Dataframe\n",
    "turnstile_weather = pd.read_csv(\"turnstile_data_master_with_weather (1).csv\")\n",
    "\n",
    "#Number of variables\n",
    "print 'Total variables:', len(list(turnstile_weather.columns.values))\n",
    "\n",
    "#list of variables\n",
    "print 'List of variables: ', list(turnstile_weather.columns.values)\n",
    "\n",
    "#Statistics summary of the data\n",
    "print 'Statistics summary'\n",
    "turnstile_weather.describe()"
   ]
  },
  {
   "cell_type": "code",
   "execution_count": 182,
   "metadata": {
    "collapsed": false
   },
   "outputs": [
    {
     "data": {
      "text/plain": [
       "count    131951.000000\n",
       "mean       1095.348478\n",
       "std        2337.015421\n",
       "min           0.000000\n",
       "25%          39.000000\n",
       "50%         279.000000\n",
       "75%        1109.000000\n",
       "max       51839.000000\n",
       "Name: ENTRIESn_hourly, dtype: float64"
      ]
     },
     "execution_count": 182,
     "metadata": {},
     "output_type": "execute_result"
    }
   ],
   "source": [
    "turnstile_weather['ENTRIESn_hourly'].describe()"
   ]
  },
  {
   "cell_type": "code",
   "execution_count": 225,
   "metadata": {
    "collapsed": false
   },
   "outputs": [
    {
     "data": {
      "text/plain": [
       "131946    2011-05-30\n",
       "131947    2011-05-30\n",
       "131948    2011-05-30\n",
       "131949    2011-05-30\n",
       "131950    2011-05-30\n",
       "Name: DATEn, dtype: object"
      ]
     },
     "execution_count": 225,
     "metadata": {},
     "output_type": "execute_result"
    }
   ],
   "source": [
    "turnstile_weather['DATEn'].tail()"
   ]
  },
  {
   "cell_type": "code",
   "execution_count": 191,
   "metadata": {
    "collapsed": false
   },
   "outputs": [
    {
     "data": {
      "text/plain": [
       "(0, 15000)"
      ]
     },
     "execution_count": 191,
     "metadata": {},
     "output_type": "execute_result"
    },
    {
     "data": {
      "image/png": "[encoded data removed]",
      "text/plain": [
       "<matplotlib.figure.Figure at 0x140a70b90>"
      ]
     },
     "metadata": {},
     "output_type": "display_data"
    }
   ],
   "source": [
    "turnstile_weather['ENTRIESn_hourly'].hist(bins = 50)\n",
    "plt.title('Ridership')\n",
    "plt.xlabel('Entries')\n",
    "plt.xlim(0,15000)"
   ]
  },
  {
   "cell_type": "code",
   "execution_count": 232,
   "metadata": {
    "collapsed": false
   },
   "outputs": [
    {
     "data": {
      "text/html": [
       "<div>\n",
       "<table border=\"1\" class=\"dataframe\">\n",
       "  <thead>\n",
       "    <tr style=\"text-align: right;\">\n",
       "      <th></th>\n",
       "      <th>DATEn</th>\n",
       "      <th>Hour</th>\n",
       "      <th>DAY</th>\n",
       "      <th>UNIT</th>\n",
       "    </tr>\n",
       "  </thead>\n",
       "  <tbody>\n",
       "    <tr>\n",
       "      <th>5482</th>\n",
       "      <td>2011-05-02</td>\n",
       "      <td>21</td>\n",
       "      <td>0</td>\n",
       "      <td>R170</td>\n",
       "    </tr>\n",
       "    <tr>\n",
       "      <th>9935</th>\n",
       "      <td>2011-05-03</td>\n",
       "      <td>21</td>\n",
       "      <td>1</td>\n",
       "      <td>R170</td>\n",
       "    </tr>\n",
       "    <tr>\n",
       "      <th>13402</th>\n",
       "      <td>2011-05-04</td>\n",
       "      <td>12</td>\n",
       "      <td>2</td>\n",
       "      <td>R011</td>\n",
       "    </tr>\n",
       "    <tr>\n",
       "      <th>13465</th>\n",
       "      <td>2011-05-04</td>\n",
       "      <td>20</td>\n",
       "      <td>2</td>\n",
       "      <td>R020</td>\n",
       "    </tr>\n",
       "    <tr>\n",
       "      <th>14348</th>\n",
       "      <td>2011-05-04</td>\n",
       "      <td>21</td>\n",
       "      <td>2</td>\n",
       "      <td>R170</td>\n",
       "    </tr>\n",
       "    <tr>\n",
       "      <th>17899</th>\n",
       "      <td>2011-05-05</td>\n",
       "      <td>20</td>\n",
       "      <td>3</td>\n",
       "      <td>R020</td>\n",
       "    </tr>\n",
       "    <tr>\n",
       "      <th>18799</th>\n",
       "      <td>2011-05-05</td>\n",
       "      <td>21</td>\n",
       "      <td>3</td>\n",
       "      <td>R170</td>\n",
       "    </tr>\n",
       "    <tr>\n",
       "      <th>23300</th>\n",
       "      <td>2011-05-06</td>\n",
       "      <td>21</td>\n",
       "      <td>4</td>\n",
       "      <td>R170</td>\n",
       "    </tr>\n",
       "    <tr>\n",
       "      <th>35389</th>\n",
       "      <td>2011-05-09</td>\n",
       "      <td>20</td>\n",
       "      <td>0</td>\n",
       "      <td>R020</td>\n",
       "    </tr>\n",
       "    <tr>\n",
       "      <th>36304</th>\n",
       "      <td>2011-05-09</td>\n",
       "      <td>21</td>\n",
       "      <td>0</td>\n",
       "      <td>R170</td>\n",
       "    </tr>\n",
       "    <tr>\n",
       "      <th>39825</th>\n",
       "      <td>2011-05-10</td>\n",
       "      <td>20</td>\n",
       "      <td>1</td>\n",
       "      <td>R020</td>\n",
       "    </tr>\n",
       "    <tr>\n",
       "      <th>40755</th>\n",
       "      <td>2011-05-10</td>\n",
       "      <td>21</td>\n",
       "      <td>1</td>\n",
       "      <td>R170</td>\n",
       "    </tr>\n",
       "    <tr>\n",
       "      <th>44233</th>\n",
       "      <td>2011-05-11</td>\n",
       "      <td>20</td>\n",
       "      <td>2</td>\n",
       "      <td>R020</td>\n",
       "    </tr>\n",
       "    <tr>\n",
       "      <th>45138</th>\n",
       "      <td>2011-05-11</td>\n",
       "      <td>21</td>\n",
       "      <td>2</td>\n",
       "      <td>R170</td>\n",
       "    </tr>\n",
       "    <tr>\n",
       "      <th>48634</th>\n",
       "      <td>2011-05-12</td>\n",
       "      <td>20</td>\n",
       "      <td>3</td>\n",
       "      <td>R020</td>\n",
       "    </tr>\n",
       "    <tr>\n",
       "      <th>49546</th>\n",
       "      <td>2011-05-12</td>\n",
       "      <td>21</td>\n",
       "      <td>3</td>\n",
       "      <td>R170</td>\n",
       "    </tr>\n",
       "    <tr>\n",
       "      <th>54042</th>\n",
       "      <td>2011-05-13</td>\n",
       "      <td>21</td>\n",
       "      <td>4</td>\n",
       "      <td>R170</td>\n",
       "    </tr>\n",
       "    <tr>\n",
       "      <th>66109</th>\n",
       "      <td>2011-05-16</td>\n",
       "      <td>20</td>\n",
       "      <td>0</td>\n",
       "      <td>R020</td>\n",
       "    </tr>\n",
       "    <tr>\n",
       "      <th>67029</th>\n",
       "      <td>2011-05-16</td>\n",
       "      <td>21</td>\n",
       "      <td>0</td>\n",
       "      <td>R170</td>\n",
       "    </tr>\n",
       "    <tr>\n",
       "      <th>70532</th>\n",
       "      <td>2011-05-17</td>\n",
       "      <td>12</td>\n",
       "      <td>1</td>\n",
       "      <td>R011</td>\n",
       "    </tr>\n",
       "    <tr>\n",
       "      <th>71507</th>\n",
       "      <td>2011-05-17</td>\n",
       "      <td>21</td>\n",
       "      <td>1</td>\n",
       "      <td>R170</td>\n",
       "    </tr>\n",
       "    <tr>\n",
       "      <th>75008</th>\n",
       "      <td>2011-05-18</td>\n",
       "      <td>20</td>\n",
       "      <td>2</td>\n",
       "      <td>R020</td>\n",
       "    </tr>\n",
       "    <tr>\n",
       "      <th>75916</th>\n",
       "      <td>2011-05-18</td>\n",
       "      <td>21</td>\n",
       "      <td>2</td>\n",
       "      <td>R170</td>\n",
       "    </tr>\n",
       "    <tr>\n",
       "      <th>79391</th>\n",
       "      <td>2011-05-19</td>\n",
       "      <td>20</td>\n",
       "      <td>3</td>\n",
       "      <td>R020</td>\n",
       "    </tr>\n",
       "    <tr>\n",
       "      <th>80304</th>\n",
       "      <td>2011-05-19</td>\n",
       "      <td>21</td>\n",
       "      <td>3</td>\n",
       "      <td>R170</td>\n",
       "    </tr>\n",
       "    <tr>\n",
       "      <th>96999</th>\n",
       "      <td>2011-05-23</td>\n",
       "      <td>20</td>\n",
       "      <td>0</td>\n",
       "      <td>R020</td>\n",
       "    </tr>\n",
       "    <tr>\n",
       "      <th>97909</th>\n",
       "      <td>2011-05-23</td>\n",
       "      <td>21</td>\n",
       "      <td>0</td>\n",
       "      <td>R170</td>\n",
       "    </tr>\n",
       "    <tr>\n",
       "      <th>101470</th>\n",
       "      <td>2011-05-24</td>\n",
       "      <td>20</td>\n",
       "      <td>1</td>\n",
       "      <td>R020</td>\n",
       "    </tr>\n",
       "    <tr>\n",
       "      <th>102363</th>\n",
       "      <td>2011-05-24</td>\n",
       "      <td>21</td>\n",
       "      <td>1</td>\n",
       "      <td>R170</td>\n",
       "    </tr>\n",
       "    <tr>\n",
       "      <th>105813</th>\n",
       "      <td>2011-05-25</td>\n",
       "      <td>20</td>\n",
       "      <td>2</td>\n",
       "      <td>R020</td>\n",
       "    </tr>\n",
       "    <tr>\n",
       "      <th>106707</th>\n",
       "      <td>2011-05-25</td>\n",
       "      <td>21</td>\n",
       "      <td>2</td>\n",
       "      <td>R170</td>\n",
       "    </tr>\n",
       "    <tr>\n",
       "      <th>111165</th>\n",
       "      <td>2011-05-26</td>\n",
       "      <td>21</td>\n",
       "      <td>3</td>\n",
       "      <td>R170</td>\n",
       "    </tr>\n",
       "    <tr>\n",
       "      <th>120403</th>\n",
       "      <td>2011-05-28</td>\n",
       "      <td>0</td>\n",
       "      <td>5</td>\n",
       "      <td>R260</td>\n",
       "    </tr>\n",
       "  </tbody>\n",
       "</table>\n",
       "</div>"
      ],
      "text/plain": [
       "             DATEn  Hour  DAY  UNIT\n",
       "5482    2011-05-02    21    0  R170\n",
       "9935    2011-05-03    21    1  R170\n",
       "13402   2011-05-04    12    2  R011\n",
       "13465   2011-05-04    20    2  R020\n",
       "14348   2011-05-04    21    2  R170\n",
       "17899   2011-05-05    20    3  R020\n",
       "18799   2011-05-05    21    3  R170\n",
       "23300   2011-05-06    21    4  R170\n",
       "35389   2011-05-09    20    0  R020\n",
       "36304   2011-05-09    21    0  R170\n",
       "39825   2011-05-10    20    1  R020\n",
       "40755   2011-05-10    21    1  R170\n",
       "44233   2011-05-11    20    2  R020\n",
       "45138   2011-05-11    21    2  R170\n",
       "48634   2011-05-12    20    3  R020\n",
       "49546   2011-05-12    21    3  R170\n",
       "54042   2011-05-13    21    4  R170\n",
       "66109   2011-05-16    20    0  R020\n",
       "67029   2011-05-16    21    0  R170\n",
       "70532   2011-05-17    12    1  R011\n",
       "71507   2011-05-17    21    1  R170\n",
       "75008   2011-05-18    20    2  R020\n",
       "75916   2011-05-18    21    2  R170\n",
       "79391   2011-05-19    20    3  R020\n",
       "80304   2011-05-19    21    3  R170\n",
       "96999   2011-05-23    20    0  R020\n",
       "97909   2011-05-23    21    0  R170\n",
       "101470  2011-05-24    20    1  R020\n",
       "102363  2011-05-24    21    1  R170\n",
       "105813  2011-05-25    20    2  R020\n",
       "106707  2011-05-25    21    2  R170\n",
       "111165  2011-05-26    21    3  R170\n",
       "120403  2011-05-28     0    5  R260"
      ]
     },
     "execution_count": 232,
     "metadata": {},
     "output_type": "execute_result"
    }
   ],
   "source": [
    "turnstile_weather[turnstile_weather['ENTRIESn_hourly']>=35000][['DATEn','Hour', 'DAY', 'UNIT']]"
   ]
  },
  {
   "cell_type": "markdown",
   "metadata": {},
   "source": [
    "###Section 0. References"
   ]
  },
  {
   "cell_type": "markdown",
   "metadata": {},
   "source": [
    "1. http://docs.scipy.org/doc/scipy/reference/generated/scipy.stats.mannwhitneyu.html"
   ]
  },
  {
   "cell_type": "markdown",
   "metadata": {},
   "source": [
    "###Section 1. Statistical Test"
   ]
  },
  {
   "cell_type": "markdown",
   "metadata": {},
   "source": [
    "####1.1 Which statistical test did you use to analyze the NYC subway data? Did you use a one-tail or a two-tail P value? What is the null hypothesis? What is your p-critical value?"
   ]
  },
  {
   "cell_type": "markdown",
   "metadata": {},
   "source": [
    "I used two- tail Mann-Whitney U test to analyze the NYC subway data with the following hypotheses:\n",
    "\n",
    "Null hypothesis Ho: The distribution of the number of entries is the same for rainny and non-rainy days. \n",
    "Alternative hypothesis Ha: The distribution of the number of entries is statistically different for rainny and non-rainy days."
   ]
  },
  {
   "cell_type": "markdown",
   "metadata": {},
   "source": [
    "####1.2 Why is this statistical test applicable to the dataset? In particular, consider the assumptions that the test is making about the distribution of ridership in the two samples."
   ]
  },
  {
   "cell_type": "markdown",
   "metadata": {},
   "source": [
    "Before I perform a statistical test, it is useful to take a look at the data and determine what distribution the data follows. Specifically, the hourly entries in the NYC subway data.\n",
    "\n",
    "Weather has a significant impact on what kinds of transportation you want to go. Rain was one of the most important weather factor. Therefore, I wanted to know the difference in ridership of the NYC subway on the days with rain and without rain. \n"
   ]
  },
  {
   "cell_type": "code",
   "execution_count": 5,
   "metadata": {
    "collapsed": false
   },
   "outputs": [
    {
     "data": {
      "text/plain": [
       "count    44104.000000\n",
       "mean      1105.446377\n",
       "std       2370.527674\n",
       "min          0.000000\n",
       "25%         41.000000\n",
       "50%        282.000000\n",
       "75%       1103.250000\n",
       "max      51839.000000\n",
       "Name: ENTRIESn_hourly, dtype: float64"
      ]
     },
     "execution_count": 5,
     "metadata": {},
     "output_type": "execute_result"
    }
   ],
   "source": [
    "#Summary of ridership on rainy days\n",
    "turnstile_weather[turnstile_weather[\"rain\"] ==1]['ENTRIESn_hourly'].describe()"
   ]
  },
  {
   "cell_type": "code",
   "execution_count": 6,
   "metadata": {
    "collapsed": false
   },
   "outputs": [
    {
     "data": {
      "text/plain": [
       "count    87847.000000\n",
       "mean      1090.278780\n",
       "std       2320.004938\n",
       "min          0.000000\n",
       "25%         38.000000\n",
       "50%        278.000000\n",
       "75%       1111.000000\n",
       "max      43199.000000\n",
       "Name: ENTRIESn_hourly, dtype: float64"
      ]
     },
     "execution_count": 6,
     "metadata": {},
     "output_type": "execute_result"
    }
   ],
   "source": [
    "#Summary of ridership on no rainy days\n",
    "turnstile_weather[turnstile_weather[\"rain\"] ==0]['ENTRIESn_hourly'].describe()"
   ]
  },
  {
   "cell_type": "markdown",
   "metadata": {},
   "source": [
    "From the above statistic, we could see that both data had similar means and standard deviations."
   ]
  },
  {
   "cell_type": "markdown",
   "metadata": {},
   "source": [
    "##### Distribution of NYC subway ridership on the days with rain and without rain"
   ]
  },
  {
   "cell_type": "code",
   "execution_count": 20,
   "metadata": {
    "collapsed": false
   },
   "outputs": [
    {
     "data": {
      "text/plain": [
       "(0, 60000)"
      ]
     },
     "execution_count": 20,
     "metadata": {},
     "output_type": "execute_result"
    },
    {
     "data": {
      "image/png": "[encoded data removed]",
      "text/plain": [
       "<matplotlib.figure.Figure at 0x10b0d6750>"
      ]
     },
     "metadata": {},
     "output_type": "display_data"
    }
   ],
   "source": [
    "%matplotlib inline\n",
    "import matplotlib.pyplot as plt\n",
    "\n",
    "# Rain\n",
    "turnstile_weather[turnstile_weather[\"rain\"] ==1]['ENTRIESn_hourly'].hist(bins = 60)\n",
    "plt.title('Ridership on days with rain')\n",
    "plt.xlabel('Entries per hour')\n",
    "plt.xlim(0,15000)\n",
    "plt.ylim(0, 60000)"
   ]
  },
  {
   "cell_type": "code",
   "execution_count": 19,
   "metadata": {
    "collapsed": false
   },
   "outputs": [
    {
     "data": {
      "text/plain": [
       "(0, 15000)"
      ]
     },
     "execution_count": 19,
     "metadata": {},
     "output_type": "execute_result"
    },
    {
     "data": {
      "image/png": "[encoded data removed]",
      "text/plain": [
       "<matplotlib.figure.Figure at 0x10b0d9c50>"
      ]
     },
     "metadata": {},
     "output_type": "display_data"
    }
   ],
   "source": [
    "# No rain\n",
    "turnstile_weather[turnstile_weather[\"rain\"] ==0]['ENTRIESn_hourly'].hist(color = \"yellow\", bins = 60)\n",
    "plt.title('Ridership on days with no rain')\n",
    "plt.xlabel('Entries per hour')\n",
    "plt.xlim(0,15000)"
   ]
  },
  {
   "cell_type": "markdown",
   "metadata": {},
   "source": [
    "Both of the data have similar shapes and were not normally distributed."
   ]
  },
  {
   "cell_type": "markdown",
   "metadata": {},
   "source": [
    "The statistically summary and distribution results showed that both data had similar mean and standard deviation and were not normally distributed. Therefore, T-test was not an option. Since we had two groups of data and number of the data were more than 20, we could use Mann Whitney U-test to compare their distributions. We used two-tail test since we did not have any data supporting which group had larger mean."
   ]
  },
  {
   "cell_type": "markdown",
   "metadata": {},
   "source": [
    "####1.3 What results did you get from this statistical test? These should include the following numerical values: p-values, as well as the means for each of the two samples under test."
   ]
  },
  {
   "cell_type": "markdown",
   "metadata": {},
   "source": [
    "#####Mann Whitney U-test"
   ]
  },
  {
   "cell_type": "code",
   "execution_count": 21,
   "metadata": {
    "collapsed": true
   },
   "outputs": [],
   "source": [
    "import numpy as np\n",
    "import scipy\n",
    "import scipy.stats\n",
    "import pandas\n",
    "\n",
    "# Consume turnstile_weather dataframe\n",
    "# Return mean of entries with rain, mean of enteries without rain\n",
    "# Return Mann_Whitney U-statistic and p value \n",
    "\n",
    "def mann_whitney_plus_means(turnstile_weather):\n",
    "    with_rain_mean = turnstile_weather[turnstile_weather[\"rain\"] ==1]['ENTRIESn_hourly'].mean()\n",
    "    without_rain_mean = turnstile_weather[turnstile_weather[\"rain\"] ==0]['ENTRIESn_hourly'].mean()\n",
    "    U,p = scipy.stats.mannwhitneyu(turnstile_weather[turnstile_weather[\"rain\"] ==1]['ENTRIESn_hourly'], turnstile_weather[turnstile_weather[\"rain\"] ==0]['ENTRIESn_hourly'])\n",
    "    print 'P value =', p*2 # the mannwhitenyu returned one-tail p value\n",
    "    print 'Mean on rainy days =', with_rain_mean\n",
    "    print 'Mean on nonrainy days=', without_rain_mean\n",
    "    return with_rain_mean, without_rain_mean, U, p"
   ]
  },
  {
   "cell_type": "code",
   "execution_count": 22,
   "metadata": {
    "collapsed": false
   },
   "outputs": [
    {
     "name": "stdout",
     "output_type": "stream",
     "text": [
      "P value = 0.049999825587\n",
      "Mean on rainy days = 1105.44637675\n",
      "Mean on nonrainy days= 1090.27878015\n"
     ]
    },
    {
     "data": {
      "text/plain": [
       "(1105.4463767458733, 1090.278780151855, 1924409167.0, 0.024999912793489721)"
      ]
     },
     "execution_count": 22,
     "metadata": {},
     "output_type": "execute_result"
    }
   ],
   "source": [
    "mann_whitney_plus_means(turnstile_weather)"
   ]
  },
  {
   "cell_type": "markdown",
   "metadata": {},
   "source": [
    "####1.4 What is the significance and interpretation of these results?"
   ]
  },
  {
   "cell_type": "markdown",
   "metadata": {},
   "source": [
    "P value is less than/almost equal to 0.05. Therefore, we could reject the null hypothesis and conclude that the distribution of the number of entries is statistically different for rainny and non-rainy days.\n"
   ]
  },
  {
   "cell_type": "markdown",
   "metadata": {},
   "source": [
    "###Section 2. Visualization and Linear Regression"
   ]
  },
  {
   "cell_type": "markdown",
   "metadata": {},
   "source": [
    "#### 2.1 What approach did you use to compute the coefficients theta and produce prediction for ENTRIESn_hourly in your regression model:\n",
    "OLS using Statsmodels or Scikit Learn\n",
    "Gradient descent using Scikit Learn\n",
    "Or something different?\n"
   ]
  },
  {
   "cell_type": "markdown",
   "metadata": {},
   "source": [
    "I used both OLS using Statsmodels and Scikit Learn Gradient descent using Sciket Learn for the problem set 2-4. I found that OLS run really slow because of the large dimension of the dataset. Therefore, I used only gradient descent for the project."
   ]
  },
  {
   "cell_type": "markdown",
   "metadata": {},
   "source": [
    "#### Visualization"
   ]
  },
  {
   "cell_type": "markdown",
   "metadata": {},
   "source": [
    "Before choosing the input variables, it is useful to look at the pattern of the data. \n",
    "\n",
    "Beside weather which was investigated in section 1, time and date might has impacts on what how people would like to transport. Let's explore how the factors effected on the ridership.\n"
   ]
  },
  {
   "cell_type": "code",
   "execution_count": 205,
   "metadata": {
    "collapsed": false
   },
   "outputs": [
    {
     "data": {
      "image/png": "[encoded data removed]",
      "text/plain": [
       "<matplotlib.figure.Figure at 0x138ee1150>"
      ]
     },
     "metadata": {},
     "output_type": "display_data"
    },
    {
     "data": {
      "text/plain": [
       "<ggplot: (328363893)>"
      ]
     },
     "execution_count": 205,
     "metadata": {},
     "output_type": "execute_result"
    }
   ],
   "source": [
    "from ggplot import *\n",
    "# # ridership by time of day\n",
    "gg_time = ggplot(turnstile_weather, aes('Hour', 'ENTRIESn_hourly')) + geom_bar(binwidth = 1, color = 'black', fill ='green') + xlim(0,23) + ggtitle('Ridership by time-of-day') + ylab('Number of entries') + xlab('Time of day')\n",
    "gg_time"
   ]
  },
  {
   "cell_type": "code",
   "execution_count": 214,
   "metadata": {
    "collapsed": false
   },
   "outputs": [
    {
     "data": {
      "text/html": [
       "<div>\n",
       "<table border=\"1\" class=\"dataframe\">\n",
       "  <thead>\n",
       "    <tr style=\"text-align: right;\">\n",
       "      <th></th>\n",
       "      <th>Hour</th>\n",
       "      <th>ENTRIESn_hourly</th>\n",
       "    </tr>\n",
       "  </thead>\n",
       "  <tbody>\n",
       "    <tr>\n",
       "      <th>count</th>\n",
       "      <td>131951.000000</td>\n",
       "      <td>131951.000000</td>\n",
       "    </tr>\n",
       "    <tr>\n",
       "      <th>mean</th>\n",
       "      <td>10.896158</td>\n",
       "      <td>1095.348478</td>\n",
       "    </tr>\n",
       "    <tr>\n",
       "      <th>std</th>\n",
       "      <td>6.892084</td>\n",
       "      <td>2337.015421</td>\n",
       "    </tr>\n",
       "    <tr>\n",
       "      <th>min</th>\n",
       "      <td>0.000000</td>\n",
       "      <td>0.000000</td>\n",
       "    </tr>\n",
       "    <tr>\n",
       "      <th>25%</th>\n",
       "      <td>5.000000</td>\n",
       "      <td>39.000000</td>\n",
       "    </tr>\n",
       "    <tr>\n",
       "      <th>50%</th>\n",
       "      <td>12.000000</td>\n",
       "      <td>279.000000</td>\n",
       "    </tr>\n",
       "    <tr>\n",
       "      <th>75%</th>\n",
       "      <td>17.000000</td>\n",
       "      <td>1109.000000</td>\n",
       "    </tr>\n",
       "    <tr>\n",
       "      <th>max</th>\n",
       "      <td>23.000000</td>\n",
       "      <td>51839.000000</td>\n",
       "    </tr>\n",
       "  </tbody>\n",
       "</table>\n",
       "</div>"
      ],
      "text/plain": [
       "                Hour  ENTRIESn_hourly\n",
       "count  131951.000000    131951.000000\n",
       "mean       10.896158      1095.348478\n",
       "std         6.892084      2337.015421\n",
       "min         0.000000         0.000000\n",
       "25%         5.000000        39.000000\n",
       "50%        12.000000       279.000000\n",
       "75%        17.000000      1109.000000\n",
       "max        23.000000     51839.000000"
      ]
     },
     "execution_count": 214,
     "metadata": {},
     "output_type": "execute_result"
    }
   ],
   "source": [
    "turnstile_weather[['Hour', 'ENTRIESn_hourly']].describe()"
   ]
  },
  {
   "cell_type": "code",
   "execution_count": 223,
   "metadata": {
    "collapsed": false
   },
   "outputs": [
    {
     "data": {
      "text/plain": [
       "(0.0, 3000.0)"
      ]
     },
     "execution_count": 223,
     "metadata": {},
     "output_type": "execute_result"
    },
    {
     "data": {
      "image/png": "[encoded data removed]",
      "text/plain": [
       "<matplotlib.figure.Figure at 0x153008ad0>"
      ]
     },
     "metadata": {},
     "output_type": "display_data"
    }
   ],
   "source": [
    "#ridership over 5000\n",
    "turnstile_weather[turnstile_weather['ENTRIESn_hourly']>=3000]['Hour'].hist(bins = 24)\n",
    "plt.title('Ridership more than 5000')\n",
    "plt.xlabel('Hour')\n",
    "plt.xlim()\n",
    "plt.ylim()"
   ]
  },
  {
   "cell_type": "code",
   "execution_count": 204,
   "metadata": {
    "collapsed": false
   },
   "outputs": [
    {
     "data": {
      "image/png": "[encoded data removed]",
      "text/plain": [
       "<matplotlib.figure.Figure at 0x138f19cd0>"
      ]
     },
     "metadata": {},
     "output_type": "display_data"
    },
    {
     "data": {
      "text/plain": [
       "<ggplot: (328142829)>"
      ]
     },
     "execution_count": 204,
     "metadata": {},
     "output_type": "execute_result"
    }
   ],
   "source": [
    "#ridership more than 3000\n",
    "ridership_3000 = turnstile_weather[turnstile_weather['ENTRIESn_hourly']>=5000]\n",
    "gg_time = ggplot(ridership_3000, aes('Hour', 'ENTRIESn_hourly')) + geom_bar(binwidth = 1, color = 'black', fill ='green') + xlim(0,23) + ggtitle('Ridership more than 3000 by time-of-day') + ylab('Number of entries') + xlab('Time of day')\n",
    "gg_time"
   ]
  },
  {
   "cell_type": "markdown",
   "metadata": {},
   "source": [
    "We could see that number of ridership changed with different time of day."
   ]
  },
  {
   "cell_type": "code",
   "execution_count": 31,
   "metadata": {
    "collapsed": true
   },
   "outputs": [],
   "source": [
    "# Add day of the week DAY variable to the dataframe\n",
    "import datetime as dt\n",
    "turnstile_weather['DAY'] = pandas.Series(turnstile_weather['DATEn'].map(lambda x: dt.datetime.strptime(x, '%Y-%m-%d').weekday()), index=turnstile_weather.index)\n",
    "turnstile_weather.is_copy = False"
   ]
  },
  {
   "cell_type": "code",
   "execution_count": 75,
   "metadata": {
    "collapsed": false
   },
   "outputs": [
    {
     "data": {
      "text/plain": [
       "<matplotlib.text.Text at 0x12fee87d0>"
      ]
     },
     "execution_count": 75,
     "metadata": {},
     "output_type": "execute_result"
    },
    {
     "data": {
      "image/png": "[encoded data removed]",
      "text/plain": [
       "<matplotlib.figure.Figure at 0x12fe21990>"
      ]
     },
     "metadata": {},
     "output_type": "display_data"
    }
   ],
   "source": [
    "# ridership by day-of-week\n",
    "turnstile_weather[['DAY','ENTRIESn_hourly']]['DAY'].hist(color = \"yellow\", bins = 7)\n",
    "plt.title('Ridership by day-of-week')\n",
    "plt.xlabel('Day of week')"
   ]
  },
  {
   "cell_type": "markdown",
   "metadata": {},
   "source": [
    "We could see that numbers of ridership were more during weekend (day 0 and 6) and almost the same on other weekdays.\n",
    "\n",
    "From above investigations, we could use rain, day-of-week,"
   ]
  },
  {
   "cell_type": "code",
   "execution_count": 117,
   "metadata": {
    "collapsed": false
   },
   "outputs": [
    {
     "data": {
      "text/plain": [
       "<matplotlib.text.Text at 0x136ff2c50>"
      ]
     },
     "execution_count": 117,
     "metadata": {},
     "output_type": "execute_result"
    },
    {
     "data": {
      "image/png": "[encoded data removed]",
      "text/plain": [
       "<matplotlib.figure.Figure at 0x116e78c10>"
      ]
     },
     "metadata": {},
     "output_type": "display_data"
    }
   ],
   "source": [
    "#meantempi\n",
    "turnstile_weather[['meantempi','ENTRIESn_hourly']]['meantempi'].hist(color = \"yellow\", bins =10)\n",
    "plt.title('Ridership by mean temperature')\n",
    "plt.xlabel('Mean temperature')"
   ]
  },
  {
   "cell_type": "code",
   "execution_count": 84,
   "metadata": {
    "collapsed": false
   },
   "outputs": [
    {
     "data": {
      "text/plain": [
       "<matplotlib.text.Text at 0x134ea1350>"
      ]
     },
     "execution_count": 84,
     "metadata": {},
     "output_type": "execute_result"
    },
    {
     "data": {
      "image/png": "[encoded data removed]",
      "text/plain": [
       "<matplotlib.figure.Figure at 0x134ea1210>"
      ]
     },
     "metadata": {},
     "output_type": "display_data"
    }
   ],
   "source": [
    "#meandewpti\n",
    "turnstile_weather[['meandewpti','ENTRIESn_hourly']]['meandewpti'].hist(color = \"yellow\", bins =10)\n",
    "plt.title('Ridership by meandewpti')\n",
    "plt.xlabel('meandewpti')"
   ]
  },
  {
   "cell_type": "markdown",
   "metadata": {},
   "source": [
    "No relations with meandewpti"
   ]
  },
  {
   "cell_type": "code",
   "execution_count": 86,
   "metadata": {
    "collapsed": false
   },
   "outputs": [
    {
     "data": {
      "text/plain": [
       "<matplotlib.text.Text at 0x135021890>"
      ]
     },
     "execution_count": 86,
     "metadata": {},
     "output_type": "execute_result"
    },
    {
     "data": {
      "image/png": "[encoded data removed]",
      "text/plain": [
       "<matplotlib.figure.Figure at 0x13564bed0>"
      ]
     },
     "metadata": {},
     "output_type": "display_data"
    }
   ],
   "source": [
    "#meanwindspdi\n",
    "turnstile_weather[['meanwindspdi','ENTRIESn_hourly']]['meanwindspdi'].hist(color = \"yellow\", bins =10)\n",
    "plt.title('Ridership by meanwindspdi')\n",
    "plt.xlabel('meanwindspdi')"
   ]
  },
  {
   "cell_type": "markdown",
   "metadata": {},
   "source": [
    "no relationship"
   ]
  },
  {
   "cell_type": "code",
   "execution_count": 93,
   "metadata": {
    "collapsed": false
   },
   "outputs": [
    {
     "data": {
      "text/plain": [
       "<matplotlib.text.Text at 0x136096610>"
      ]
     },
     "execution_count": 93,
     "metadata": {},
     "output_type": "execute_result"
    },
    {
     "data": {
      "image/png": "[encoded data removed]",
      "text/plain": [
       "<matplotlib.figure.Figure at 0x136096090>"
      ]
     },
     "metadata": {},
     "output_type": "display_data"
    }
   ],
   "source": [
    "#fog\n",
    "turnstile_weather[['fog','ENTRIESn_hourly']]['fog'].hist(color = \"yellow\")\n",
    "plt.title('Ridership by fog')\n",
    "plt.xlabel('fog')"
   ]
  },
  {
   "cell_type": "markdown",
   "metadata": {},
   "source": [
    "Yes, there was a relationship"
   ]
  },
  {
   "cell_type": "code",
   "execution_count": 95,
   "metadata": {
    "collapsed": false
   },
   "outputs": [
    {
     "data": {
      "text/plain": [
       "<matplotlib.text.Text at 0x136359150>"
      ]
     },
     "execution_count": 95,
     "metadata": {},
     "output_type": "execute_result"
    },
    {
     "data": {
      "image/png": "[encoded data removed]",
      "text/plain": [
       "<matplotlib.figure.Figure at 0x13632bd50>"
      ]
     },
     "metadata": {},
     "output_type": "display_data"
    }
   ],
   "source": [
    "#precipi\n",
    "turnstile_weather[['precipi','ENTRIESn_hourly']]['precipi'].hist(color = \"yellow\")\n",
    "plt.title('Ridership by precipi')\n",
    "plt.xlabel('precipi')"
   ]
  },
  {
   "cell_type": "markdown",
   "metadata": {},
   "source": [
    "Yes, there was a relationship"
   ]
  },
  {
   "cell_type": "code",
   "execution_count": 97,
   "metadata": {
    "collapsed": false
   },
   "outputs": [
    {
     "data": {
      "text/plain": [
       "<matplotlib.text.Text at 0x136351990>"
      ]
     },
     "execution_count": 97,
     "metadata": {},
     "output_type": "execute_result"
    },
    {
     "data": {
      "image/png": "[encoded data removed]",
      "text/plain": [
       "<matplotlib.figure.Figure at 0x1363513d0>"
      ]
     },
     "metadata": {},
     "output_type": "display_data"
    }
   ],
   "source": [
    "#meanpressurei\n",
    "turnstile_weather[['meanpressurei','ENTRIESn_hourly']]['meanpressurei'].hist(color = \"yellow\")\n",
    "plt.title('Ridership by meanpressurei')\n",
    "plt.xlabel('meanpressurei')"
   ]
  },
  {
   "cell_type": "markdown",
   "metadata": {},
   "source": [
    "####2.2 What features (input variables) did you use in your model? Did you use any dummy variables as part of your features?"
   ]
  },
  {
   "cell_type": "markdown",
   "metadata": {},
   "source": [
    "I used original 'rain', 'precipi', 'fog' and 'meantempi' variables as my input. \n",
    "\n",
    "The 'UNIT', 'Hour' and 'DAY' were important variable but 'UNIT' was a caterogies data and 'DAY' and 'Hour' are scaling data. Therefore, I used them as dummy variables as part of my features. \n",
    "\n"
   ]
  },
  {
   "cell_type": "code",
   "execution_count": null,
   "metadata": {
    "collapsed": true
   },
   "outputs": [],
   "source": [
    "input_variables = ['rain', 'precipi', 'fog', 'meantempi'] "
   ]
  },
  {
   "cell_type": "markdown",
   "metadata": {},
   "source": [
    "####2.3 Why did you select these features in your model? "
   ]
  },
  {
   "cell_type": "markdown",
   "metadata": {},
   "source": [
    "I selected the features because weather, time and date had great impact on what how people would like to transport. Therefore, variables such as thunder, rain, precipitation, temperature, foggy condition, time of the day and day of week are important factors. \n",
    "\n",
    "In order to validate my assumption, I included and withdrawed the variables in my features and investigated how it increased or decreased my coefficients of determination (R2) value. The results showed that using rain, precipitation, temperature, time of the day and day of week get the best R2 value of 0.43.\n",
    "\n",
    "\n"
   ]
  },
  {
   "cell_type": "markdown",
   "metadata": {
    "collapsed": true
   },
   "source": [
    "There was no thunder during the recording period."
   ]
  },
  {
   "cell_type": "markdown",
   "metadata": {},
   "source": [
    "####2.4 What are the parameters (also known as \"coefficients\" or \"weights\") of the non-dummy features in your linear regression model?"
   ]
  },
  {
   "cell_type": "code",
   "execution_count": 177,
   "metadata": {
    "collapsed": true
   },
   "outputs": [],
   "source": [
    "\n",
    "\n",
    "def normalize_features(features):\n",
    "    ''' \n",
    "    Returns the means and standard deviations of the given features, along with a normalized feature\n",
    "    matrix.\n",
    "    ''' \n",
    "    means = np.mean(features, axis=0)\n",
    "    std_devs = np.std(features, axis=0)\n",
    "    normalized_features = (features - means) / std_devs\n",
    "    return means, std_devs, normalized_features\n",
    "\n",
    "def recover_params(means, std_devs, norm_intercept, norm_params):\n",
    "    ''' \n",
    "    Recovers the weights for a linear model given parameters that were fitted using\n",
    "    normalized features. Takes the means and standard deviations of the original\n",
    "    features, along with the intercept and parameters computed using the normalized\n",
    "    features, and returns the intercept and parameters that correspond to the original\n",
    "    features.\n",
    "    ''' \n",
    "    intercept = norm_intercept - np.sum(means * norm_params / std_devs)\n",
    "    params = norm_params / std_devs\n",
    "    return intercept, params\n",
    "\n",
    "def linear_regression(features, values):\n",
    "    \"\"\"\n",
    "    Perform linear regression given a data set with an arbitrary number of features.\n",
    "    \"\"\"\n",
    "    clf = SGDRegressor(n_iter = 60) # select iteration = 20 to improve R2\n",
    "    intercept = clf.fit(features,values).intercept_\n",
    "    params = clf.fit(features,values).coef_\n",
    "    return intercept, params\n",
    "\n",
    "def predictions(dataframe):\n",
    "    \n",
    "    features = dataframe[['rain', 'precipi', 'fog', 'meanwindspdi']]\n",
    "    dummy_days = pandas.get_dummies(dataframe['DAY'], prefix='day')\n",
    "    dummy_units =pandas.get_dummies(dataframe['UNIT'], prefix='unit')\n",
    "    dummy_hours = pandas.get_dummies(dataframe['Hour'], prefix='hour')\n",
    "    days_units= pandas.concat([dummy_days, dummy_units, dummy_hours], axis=1)\n",
    "    features = features.join(days_units)\n",
    "    \n",
    "    # Values\n",
    "    values = dataframe['ENTRIESn_hourly']\n",
    "    \n",
    "    # Get numpy arrays\n",
    "    features_array = features.values\n",
    "    values_array = values.values\n",
    "    \n",
    "    means, std_devs, normalized_features_array = normalize_features(features_array)\n",
    "\n",
    "    # Perform gradient descent\n",
    "    norm_intercept, norm_params = linear_regression(normalized_features_array, values_array)\n",
    "    \n",
    "    intercept, params = recover_params(means, std_devs, norm_intercept, norm_params)\n",
    "    print len(params)\n",
    "    print params[:4]\n",
    "    \n",
    "    predictions = intercept + np.dot(features_array, params)\n",
    "    # The following line would be equivalent:\n",
    "    # predictions = norm_intercept + np.dot(normalized_features_array, norm_params)\n",
    "    \n",
    "    return predictions\n"
   ]
  },
  {
   "cell_type": "code",
   "execution_count": 109,
   "metadata": {
    "collapsed": true
   },
   "outputs": [],
   "source": [
    "def compute_r_squared(data, predictions):\n",
    "    # Write a function that, given two input numpy arrays, 'data', and 'predictions,'\n",
    "    # returns the coefficient of determination, R^2, for the model that produced \n",
    "    # predictions.\n",
    "    \n",
    "    difference_squared = map(lambda data, predictions: (data - predictions)**2, data, predictions)\n",
    "    mean_data = np.mean(data)\n",
    "    variance = map(lambda data: (data - mean_data)**2, data)\n",
    "    r_squared = 1 - sum(difference_squared)/sum(variance)\n",
    "    print r_squared"
   ]
  },
  {
   "cell_type": "code",
   "execution_count": 179,
   "metadata": {
    "collapsed": false
   },
   "outputs": [
    {
     "name": "stdout",
     "output_type": "stream",
     "text": [
      "500\n",
      "[-31.09491588 -98.43224771  65.87356649  12.62950499]\n",
      "0.491642126837\n"
     ]
    }
   ],
   "source": [
    "compute_r_squared(turnstile_weather['ENTRIESn_hourly'], predictions(turnstile_weather))"
   ]
  },
  {
   "cell_type": "code",
   "execution_count": 251,
   "metadata": {
    "collapsed": false
   },
   "outputs": [
    {
     "name": "stdout",
     "output_type": "stream",
     "text": [
      "500\n",
      "[-18.66815424 -13.33140971  22.24344852   4.59259659]\n",
      "0.516540686878\n"
     ]
    }
   ],
   "source": [
    "less_3000_ridership = turnstile_weather[turnstile_weather['ENTRIESn_hourly']<=3000]\n",
    "compute_r_squared(less_3000_ridership['ENTRIESn_hourly'], predictions(less_3000_ridership))"
   ]
  },
  {
   "cell_type": "code",
   "execution_count": 247,
   "metadata": {
    "collapsed": false
   },
   "outputs": [
    {
     "name": "stdout",
     "output_type": "stream",
     "text": [
      "500\n",
      "[-2.86850791 -7.83226563  4.82202903 -0.46701362]\n",
      "0.407639129252\n"
     ]
    }
   ],
   "source": [
    "less_2000_ridership = turnstile_weather[turnstile_weather['ENTRIESn_hourly']<=800]\n",
    "compute_r_squared(less_2000_ridership['ENTRIESn_hourly'], predictions(less_2000_ridership))"
   ]
  },
  {
   "cell_type": "code",
   "execution_count": 254,
   "metadata": {
    "collapsed": false
   },
   "outputs": [
    {
     "name": "stdout",
     "output_type": "stream",
     "text": [
      "500\n",
      "[ -63.52700308  -65.47633472  140.08962637    9.3762655 ]\n",
      "0.50319868437\n"
     ]
    }
   ],
   "source": [
    "less_30000_ridership = turnstile_weather[turnstile_weather['ENTRIESn_hourly']<=20000]\n",
    "compute_r_squared(less_30000_ridership['ENTRIESn_hourly'], predictions(less_30000_ridership))"
   ]
  },
  {
   "cell_type": "code",
   "execution_count": null,
   "metadata": {
    "collapsed": true
   },
   "outputs": [],
   "source": []
  },
  {
   "cell_type": "code",
   "execution_count": 241,
   "metadata": {
    "collapsed": false
   },
   "outputs": [
    {
     "name": "stdout",
     "output_type": "stream",
     "text": [
      "45\n",
      "[ 866.56340585 -709.59914772  152.94189801   27.01097653]\n",
      "0.758943318817\n"
     ]
    }
   ],
   "source": [
    "more_20000_ridership = turnstile_weather[turnstile_weather['ENTRIESn_hourly']>=20000]\n",
    "compute_r_squared(more_20000_ridership['ENTRIESn_hourly'], predictions(more_20000_ridership))"
   ]
  },
  {
   "cell_type": "markdown",
   "metadata": {},
   "source": [
    "### Model improvement"
   ]
  },
  {
   "cell_type": "markdown",
   "metadata": {},
   "source": [
    "Background information about the NYC subway system:\n",
    "\n",
    "- Although the subway operates 24 hours a day, not all station entrances are accessible at all times or have full-time agents. We need to check which station has no entrances at what time"
   ]
  },
  {
   "cell_type": "code",
   "execution_count": 145,
   "metadata": {
    "collapsed": false
   },
   "outputs": [
    {
     "data": {
      "text/html": [
       "<div>\n",
       "<table border=\"1\" class=\"dataframe\">\n",
       "  <thead>\n",
       "    <tr style=\"text-align: right;\">\n",
       "      <th></th>\n",
       "      <th>Unnamed: 0</th>\n",
       "      <th>Hour</th>\n",
       "      <th>ENTRIESn_hourly</th>\n",
       "      <th>EXITSn_hourly</th>\n",
       "      <th>maxpressurei</th>\n",
       "      <th>maxdewpti</th>\n",
       "      <th>mindewpti</th>\n",
       "      <th>minpressurei</th>\n",
       "      <th>meandewpti</th>\n",
       "      <th>meanpressurei</th>\n",
       "      <th>fog</th>\n",
       "      <th>rain</th>\n",
       "      <th>meanwindspdi</th>\n",
       "      <th>mintempi</th>\n",
       "      <th>meantempi</th>\n",
       "      <th>maxtempi</th>\n",
       "      <th>precipi</th>\n",
       "      <th>thunder</th>\n",
       "      <th>DAY</th>\n",
       "    </tr>\n",
       "  </thead>\n",
       "  <tbody>\n",
       "    <tr>\n",
       "      <th>count</th>\n",
       "      <td>13341.000000</td>\n",
       "      <td>13341.000000</td>\n",
       "      <td>13341</td>\n",
       "      <td>13341.000000</td>\n",
       "      <td>13341.000000</td>\n",
       "      <td>13341.000000</td>\n",
       "      <td>13341.000000</td>\n",
       "      <td>13341.000000</td>\n",
       "      <td>13341.000000</td>\n",
       "      <td>13341.000000</td>\n",
       "      <td>13341.000000</td>\n",
       "      <td>13341.000000</td>\n",
       "      <td>13341.000000</td>\n",
       "      <td>13341.000000</td>\n",
       "      <td>13341.000000</td>\n",
       "      <td>13341.000000</td>\n",
       "      <td>13341.000000</td>\n",
       "      <td>13341</td>\n",
       "      <td>13341.000000</td>\n",
       "    </tr>\n",
       "    <tr>\n",
       "      <th>mean</th>\n",
       "      <td>64838.946556</td>\n",
       "      <td>9.903006</td>\n",
       "      <td>0</td>\n",
       "      <td>101.611498</td>\n",
       "      <td>30.050848</td>\n",
       "      <td>56.558054</td>\n",
       "      <td>47.846713</td>\n",
       "      <td>29.915707</td>\n",
       "      <td>52.185668</td>\n",
       "      <td>29.984943</td>\n",
       "      <td>0.151038</td>\n",
       "      <td>0.315494</td>\n",
       "      <td>5.426055</td>\n",
       "      <td>56.043325</td>\n",
       "      <td>64.207031</td>\n",
       "      <td>71.747770</td>\n",
       "      <td>0.156896</td>\n",
       "      <td>0</td>\n",
       "      <td>3.369762</td>\n",
       "    </tr>\n",
       "    <tr>\n",
       "      <th>std</th>\n",
       "      <td>40514.418106</td>\n",
       "      <td>7.203908</td>\n",
       "      <td>0</td>\n",
       "      <td>241.649463</td>\n",
       "      <td>0.141618</td>\n",
       "      <td>9.295000</td>\n",
       "      <td>11.441938</td>\n",
       "      <td>0.164411</td>\n",
       "      <td>10.232950</td>\n",
       "      <td>0.149559</td>\n",
       "      <td>0.358099</td>\n",
       "      <td>0.464730</td>\n",
       "      <td>1.819771</td>\n",
       "      <td>6.412477</td>\n",
       "      <td>6.583429</td>\n",
       "      <td>7.628471</td>\n",
       "      <td>0.401862</td>\n",
       "      <td>0</td>\n",
       "      <td>2.202747</td>\n",
       "    </tr>\n",
       "    <tr>\n",
       "      <th>min</th>\n",
       "      <td>0.000000</td>\n",
       "      <td>0.000000</td>\n",
       "      <td>0</td>\n",
       "      <td>0.000000</td>\n",
       "      <td>29.740000</td>\n",
       "      <td>39.000000</td>\n",
       "      <td>22.000000</td>\n",
       "      <td>29.540000</td>\n",
       "      <td>31.000000</td>\n",
       "      <td>29.640000</td>\n",
       "      <td>0.000000</td>\n",
       "      <td>0.000000</td>\n",
       "      <td>1.000000</td>\n",
       "      <td>46.000000</td>\n",
       "      <td>55.000000</td>\n",
       "      <td>58.000000</td>\n",
       "      <td>0.000000</td>\n",
       "      <td>0</td>\n",
       "      <td>0.000000</td>\n",
       "    </tr>\n",
       "    <tr>\n",
       "      <th>25%</th>\n",
       "      <td>30142.000000</td>\n",
       "      <td>4.000000</td>\n",
       "      <td>0</td>\n",
       "      <td>0.000000</td>\n",
       "      <td>29.960000</td>\n",
       "      <td>48.000000</td>\n",
       "      <td>37.000000</td>\n",
       "      <td>29.850000</td>\n",
       "      <td>42.000000</td>\n",
       "      <td>29.910000</td>\n",
       "      <td>0.000000</td>\n",
       "      <td>0.000000</td>\n",
       "      <td>5.000000</td>\n",
       "      <td>52.000000</td>\n",
       "      <td>60.000000</td>\n",
       "      <td>67.000000</td>\n",
       "      <td>0.000000</td>\n",
       "      <td>0</td>\n",
       "      <td>1.000000</td>\n",
       "    </tr>\n",
       "    <tr>\n",
       "      <th>50%</th>\n",
       "      <td>64877.000000</td>\n",
       "      <td>9.000000</td>\n",
       "      <td>0</td>\n",
       "      <td>4.000000</td>\n",
       "      <td>30.030000</td>\n",
       "      <td>57.000000</td>\n",
       "      <td>51.000000</td>\n",
       "      <td>29.910000</td>\n",
       "      <td>54.000000</td>\n",
       "      <td>29.970000</td>\n",
       "      <td>0.000000</td>\n",
       "      <td>0.000000</td>\n",
       "      <td>5.000000</td>\n",
       "      <td>54.000000</td>\n",
       "      <td>63.000000</td>\n",
       "      <td>71.000000</td>\n",
       "      <td>0.000000</td>\n",
       "      <td>0</td>\n",
       "      <td>4.000000</td>\n",
       "    </tr>\n",
       "    <tr>\n",
       "      <th>75%</th>\n",
       "      <td>99893.000000</td>\n",
       "      <td>16.000000</td>\n",
       "      <td>0</td>\n",
       "      <td>71.000000</td>\n",
       "      <td>30.140000</td>\n",
       "      <td>64.000000</td>\n",
       "      <td>55.000000</td>\n",
       "      <td>30.010000</td>\n",
       "      <td>60.000000</td>\n",
       "      <td>30.070000</td>\n",
       "      <td>0.000000</td>\n",
       "      <td>1.000000</td>\n",
       "      <td>6.000000</td>\n",
       "      <td>60.000000</td>\n",
       "      <td>68.000000</td>\n",
       "      <td>78.000000</td>\n",
       "      <td>0.070000</td>\n",
       "      <td>0</td>\n",
       "      <td>6.000000</td>\n",
       "    </tr>\n",
       "    <tr>\n",
       "      <th>max</th>\n",
       "      <td>131945.000000</td>\n",
       "      <td>23.000000</td>\n",
       "      <td>0</td>\n",
       "      <td>2590.000000</td>\n",
       "      <td>30.310000</td>\n",
       "      <td>70.000000</td>\n",
       "      <td>66.000000</td>\n",
       "      <td>30.230000</td>\n",
       "      <td>68.000000</td>\n",
       "      <td>30.270000</td>\n",
       "      <td>1.000000</td>\n",
       "      <td>1.000000</td>\n",
       "      <td>12.000000</td>\n",
       "      <td>70.000000</td>\n",
       "      <td>78.000000</td>\n",
       "      <td>86.000000</td>\n",
       "      <td>2.180000</td>\n",
       "      <td>0</td>\n",
       "      <td>6.000000</td>\n",
       "    </tr>\n",
       "  </tbody>\n",
       "</table>\n",
       "</div>"
      ],
      "text/plain": [
       "          Unnamed: 0          Hour  ENTRIESn_hourly  EXITSn_hourly  \\\n",
       "count   13341.000000  13341.000000            13341   13341.000000   \n",
       "mean    64838.946556      9.903006                0     101.611498   \n",
       "std     40514.418106      7.203908                0     241.649463   \n",
       "min         0.000000      0.000000                0       0.000000   \n",
       "25%     30142.000000      4.000000                0       0.000000   \n",
       "50%     64877.000000      9.000000                0       4.000000   \n",
       "75%     99893.000000     16.000000                0      71.000000   \n",
       "max    131945.000000     23.000000                0    2590.000000   \n",
       "\n",
       "       maxpressurei     maxdewpti     mindewpti  minpressurei    meandewpti  \\\n",
       "count  13341.000000  13341.000000  13341.000000  13341.000000  13341.000000   \n",
       "mean      30.050848     56.558054     47.846713     29.915707     52.185668   \n",
       "std        0.141618      9.295000     11.441938      0.164411     10.232950   \n",
       "min       29.740000     39.000000     22.000000     29.540000     31.000000   \n",
       "25%       29.960000     48.000000     37.000000     29.850000     42.000000   \n",
       "50%       30.030000     57.000000     51.000000     29.910000     54.000000   \n",
       "75%       30.140000     64.000000     55.000000     30.010000     60.000000   \n",
       "max       30.310000     70.000000     66.000000     30.230000     68.000000   \n",
       "\n",
       "       meanpressurei           fog          rain  meanwindspdi      mintempi  \\\n",
       "count   13341.000000  13341.000000  13341.000000  13341.000000  13341.000000   \n",
       "mean       29.984943      0.151038      0.315494      5.426055     56.043325   \n",
       "std         0.149559      0.358099      0.464730      1.819771      6.412477   \n",
       "min        29.640000      0.000000      0.000000      1.000000     46.000000   \n",
       "25%        29.910000      0.000000      0.000000      5.000000     52.000000   \n",
       "50%        29.970000      0.000000      0.000000      5.000000     54.000000   \n",
       "75%        30.070000      0.000000      1.000000      6.000000     60.000000   \n",
       "max        30.270000      1.000000      1.000000     12.000000     70.000000   \n",
       "\n",
       "          meantempi      maxtempi       precipi  thunder           DAY  \n",
       "count  13341.000000  13341.000000  13341.000000    13341  13341.000000  \n",
       "mean      64.207031     71.747770      0.156896        0      3.369762  \n",
       "std        6.583429      7.628471      0.401862        0      2.202747  \n",
       "min       55.000000     58.000000      0.000000        0      0.000000  \n",
       "25%       60.000000     67.000000      0.000000        0      1.000000  \n",
       "50%       63.000000     71.000000      0.000000        0      4.000000  \n",
       "75%       68.000000     78.000000      0.070000        0      6.000000  \n",
       "max       78.000000     86.000000      2.180000        0      6.000000  "
      ]
     },
     "execution_count": 145,
     "metadata": {},
     "output_type": "execute_result"
    }
   ],
   "source": [
    "no_ridership = turnstile_weather[turnstile_weather['ENTRIESn_hourly'] ==0]\n",
    "no_ridership.describe()"
   ]
  },
  {
   "cell_type": "code",
   "execution_count": 162,
   "metadata": {
    "collapsed": false
   },
   "outputs": [
    {
     "data": {
      "text/plain": [
       "count    118610.000000\n",
       "mean       1218.550940\n",
       "std        2434.302829\n",
       "min           1.000000\n",
       "25%          83.000000\n",
       "50%         382.000000\n",
       "75%        1275.000000\n",
       "max       51839.000000\n",
       "Name: ENTRIESn_hourly, dtype: float64"
      ]
     },
     "execution_count": 162,
     "metadata": {},
     "output_type": "execute_result"
    }
   ],
   "source": [
    "has_ridership = turnstile_weather[turnstile_weather['ENTRIESn_hourly'] >0]\n",
    "has_ridership['ENTRIESn_hourly'].describe()"
   ]
  },
  {
   "cell_type": "code",
   "execution_count": 161,
   "metadata": {
    "collapsed": false
   },
   "outputs": [
    {
     "name": "stdout",
     "output_type": "stream",
     "text": [
      "499\n",
      "[ -72.50635391  167.78785584  -82.11242343   30.42573614]\n",
      "0.49115327933\n"
     ]
    }
   ],
   "source": [
    "#prediction for data with ridership\n",
    "compute_r_squared(has_ridership['ENTRIESn_hourly'], predictions(has_ridership))"
   ]
  },
  {
   "cell_type": "code",
   "execution_count": null,
   "metadata": {
    "collapsed": true
   },
   "outputs": [],
   "source": []
  },
  {
   "cell_type": "code",
   "execution_count": 166,
   "metadata": {
    "collapsed": false
   },
   "outputs": [
    {
     "data": {
      "text/plain": [
       "count    80175.000000\n",
       "mean      1337.351007\n",
       "std       2611.303308\n",
       "min          1.000000\n",
       "25%         92.000000\n",
       "50%        427.000000\n",
       "75%       1429.000000\n",
       "max      51839.000000\n",
       "Name: ENTRIESn_hourly, dtype: float64"
      ]
     },
     "execution_count": 166,
     "metadata": {},
     "output_type": "execute_result"
    }
   ],
   "source": [
    "weekday_data_ridership = has_ridership[(has_ridership.DAY <= 5) & (has_ridership.DAY >=1)]\n",
    "weekday_data_ridership['ENTRIESn_hourly'].describe()"
   ]
  },
  {
   "cell_type": "code",
   "execution_count": null,
   "metadata": {
    "collapsed": true
   },
   "outputs": [],
   "source": []
  },
  {
   "cell_type": "code",
   "execution_count": 159,
   "metadata": {
    "collapsed": true
   },
   "outputs": [],
   "source": [
    "\n",
    "\n",
    "def normalize_features(features):\n",
    "    ''' \n",
    "    Returns the means and standard deviations of the given features, along with a normalized feature\n",
    "    matrix.\n",
    "    ''' \n",
    "    means = np.mean(features, axis=0)\n",
    "    std_devs = np.std(features, axis=0)\n",
    "    normalized_features = (features - means) / std_devs\n",
    "    return means, std_devs, normalized_features\n",
    "\n",
    "def recover_params(means, std_devs, norm_intercept, norm_params):\n",
    "    ''' \n",
    "    Recovers the weights for a linear model given parameters that were fitted using\n",
    "    normalized features. Takes the means and standard deviations of the original\n",
    "    features, along with the intercept and parameters computed using the normalized\n",
    "    features, and returns the intercept and parameters that correspond to the original\n",
    "    features.\n",
    "    ''' \n",
    "    intercept = norm_intercept - np.sum(means * norm_params / std_devs)\n",
    "    params = norm_params / std_devs\n",
    "    return intercept, params\n",
    "\n",
    "def linear_regression(features, values):\n",
    "    \"\"\"\n",
    "    Perform linear regression given a data set with an arbitrary number of features.\n",
    "    \"\"\"\n",
    "    clf = SGDRegressor(n_iter = 60) # select iteration = 20 to improve R2\n",
    "    intercept = clf.fit(features,values).intercept_\n",
    "    params = clf.fit(features,values).coef_\n",
    "    return intercept, params\n",
    "\n",
    "def predictions_weekday(dataframe):\n",
    "    \n",
    "    features = dataframe[['rain', 'fog', 'precipi', 'meanwindspdi']]\n",
    "    dummy_units =pandas.get_dummies(dataframe['UNIT'], prefix='unit')\n",
    "    dummy_hours = pandas.get_dummies(dataframe['Hour'], prefix='hour')\n",
    "    days_units= pandas.concat([dummy_units, dummy_hours], axis=1)\n",
    "    features = features.join(days_units)\n",
    "    \n",
    "    # Values\n",
    "    values = dataframe['ENTRIESn_hourly']\n",
    "    \n",
    "    # Get numpy arrays\n",
    "    features_array = features.values\n",
    "    values_array = values.values\n",
    "    \n",
    "    means, std_devs, normalized_features_array = normalize_features(features_array)\n",
    "\n",
    "    # Perform gradient descent\n",
    "    norm_intercept, norm_params = linear_regression(normalized_features_array, values_array)\n",
    "    \n",
    "    intercept, params = recover_params(means, std_devs, norm_intercept, norm_params)\n",
    "    print len(params)\n",
    "    print params[:4]\n",
    "    \n",
    "    predictions = intercept + np.dot(features_array, params)\n",
    "    # The following line would be equivalent:\n",
    "    # predictions = norm_intercept + np.dot(normalized_features_array, norm_params)\n",
    "    \n",
    "    return predictions\n"
   ]
  },
  {
   "cell_type": "code",
   "execution_count": 163,
   "metadata": {
    "collapsed": false
   },
   "outputs": [
    {
     "name": "stdout",
     "output_type": "stream",
     "text": [
      "492\n",
      "[-60283738.46136425   9523292.72160505  13643951.68345903\n",
      "  -6695309.29732938]\n",
      "-7.82896704649e+13\n"
     ]
    }
   ],
   "source": [
    "compute_r_squared(weekday_data_ridership['ENTRIESn_hourly'], predictions_weekday(weekday_data_ridership))"
   ]
  },
  {
   "cell_type": "code",
   "execution_count": null,
   "metadata": {
    "collapsed": true
   },
   "outputs": [],
   "source": []
  },
  {
   "cell_type": "code",
   "execution_count": null,
   "metadata": {
    "collapsed": true
   },
   "outputs": [],
   "source": []
  },
  {
   "cell_type": "code",
   "execution_count": null,
   "metadata": {
    "collapsed": true
   },
   "outputs": [],
   "source": []
  },
  {
   "cell_type": "code",
   "execution_count": null,
   "metadata": {
    "collapsed": true
   },
   "outputs": [],
   "source": []
  },
  {
   "cell_type": "code",
   "execution_count": null,
   "metadata": {
    "collapsed": true
   },
   "outputs": [],
   "source": []
  },
  {
   "cell_type": "code",
   "execution_count": null,
   "metadata": {
    "collapsed": false
   },
   "outputs": [],
   "source": [
    "weekday_data[['Hour','ENTRIESn_hourly']]['Hour'].hist(bins = 24)\n",
    "plt.title('Ridership by Hour on weekday')\n",
    "plt.xlabel('Hour')"
   ]
  },
  {
   "cell_type": "code",
   "execution_count": null,
   "metadata": {
    "collapsed": false
   },
   "outputs": [],
   "source": [
    "weekend_data = turnstile_weather[(turnstile_weather.DAY == 6) | (turnstile_weather.DAY ==1)]"
   ]
  },
  {
   "cell_type": "code",
   "execution_count": null,
   "metadata": {
    "collapsed": false
   },
   "outputs": [],
   "source": [
    "compute_r_squared(weekend_data['ENTRIESn_hourly'], predictions_day(weekend_data))"
   ]
  },
  {
   "cell_type": "markdown",
   "metadata": {},
   "source": [
    "### Further improvement: deleting zero entries"
   ]
  },
  {
   "cell_type": "code",
   "execution_count": null,
   "metadata": {
    "collapsed": false
   },
   "outputs": [],
   "source": [
    "has_ridership = turnstile_weather[turnstile_weather['ENTRIESn_hourly'] >0]\n",
    "has_ridership.describe()"
   ]
  },
  {
   "cell_type": "code",
   "execution_count": null,
   "metadata": {
    "collapsed": false
   },
   "outputs": [],
   "source": [
    "weekday_with_ridership = has_ridership[(has_ridership.DAY <= 5) & (has_ridership.DAY >=1)]"
   ]
  },
  {
   "cell_type": "code",
   "execution_count": null,
   "metadata": {
    "collapsed": false
   },
   "outputs": [],
   "source": [
    "compute_r_squared(weekday_with_ridership['ENTRIESn_hourly'], predictions_day(weekday_with_ridership))"
   ]
  },
  {
   "cell_type": "code",
   "execution_count": null,
   "metadata": {
    "collapsed": true
   },
   "outputs": [],
   "source": [
    "\n",
    "\n",
    "def normalize_features(features):\n",
    "    ''' \n",
    "    Returns the means and standard deviations of the given features, along with a normalized feature\n",
    "    matrix.\n",
    "    ''' \n",
    "    means = np.mean(features, axis=0)\n",
    "    std_devs = np.std(features, axis=0)\n",
    "    normalized_features = (features - means) / std_devs\n",
    "    return means, std_devs, normalized_features\n",
    "\n",
    "def recover_params(means, std_devs, norm_intercept, norm_params):\n",
    "    ''' \n",
    "    Recovers the weights for a linear model given parameters that were fitted using\n",
    "    normalized features. Takes the means and standard deviations of the original\n",
    "    features, along with the intercept and parameters computed using the normalized\n",
    "    features, and returns the intercept and parameters that correspond to the original\n",
    "    features.\n",
    "    ''' \n",
    "    intercept = norm_intercept - np.sum(means * norm_params / std_devs)\n",
    "    params = norm_params / std_devs\n",
    "    return intercept, params\n",
    "\n",
    "def linear_regression(features, values):\n",
    "    \"\"\"\n",
    "    Perform linear regression given a data set with an arbitrary number of features.\n",
    "    \"\"\"\n",
    "    clf = SGDRegressor(n_iter = 20) # select iteration = 20 to improve R2\n",
    "    intercept = clf.fit(features,values).intercept_\n",
    "    params = clf.fit(features,values).coef_\n",
    "    return intercept, params\n",
    "\n",
    "def predictions_day1(dataframe):\n",
    "    \n",
    "    features = dataframe[['rain', 'meandewpti', 'fog']]\n",
    "    dummy_days = pandas.get_dummies(dataframe['DAY'], prefix='day')\n",
    "    dummy_units =pandas.get_dummies(dataframe['UNIT'], prefix='unit')\n",
    "    dummy_hours = pandas.get_dummies(dataframe['Hour'], prefix='hour')\n",
    "    days_units= pandas.concat([dummy_days, dummy_units, dummy_hours], axis=1)\n",
    "    \n",
    "            \n",
    "    features = features.join(days_units)\n",
    "    \n",
    "    # Values\n",
    "    values = dataframe['ENTRIESn_hourly']\n",
    "    \n",
    "    # Get numpy arrays\n",
    "    features_array = features.values\n",
    "    values_array = values.values\n",
    "    \n",
    "    means, std_devs, normalized_features_array = normalize_features(features_array)\n",
    "\n",
    "    # Perform gradient descent\n",
    "    norm_intercept, norm_params = linear_regression(normalized_features_array, values_array)\n",
    "    \n",
    "    intercept, params = recover_params(means, std_devs, norm_intercept, norm_params)\n",
    "    print len(params)\n",
    "    \n",
    "    predictions = intercept + np.dot(features_array, params)\n",
    "    # The following line would be equivalent:\n",
    "    # predictions = norm_intercept + np.dot(normalized_features_array, norm_params)\n",
    "    \n",
    "    return predictions\n"
   ]
  },
  {
   "cell_type": "code",
   "execution_count": null,
   "metadata": {
    "collapsed": false
   },
   "outputs": [],
   "source": [
    "compute_r_squared(weekday_data['ENTRIESn_hourly'], predictions_day1(weekday_data))"
   ]
  },
  {
   "cell_type": "code",
   "execution_count": null,
   "metadata": {
    "collapsed": true
   },
   "outputs": [],
   "source": []
  }
 ],
 "metadata": {
  "kernelspec": {
   "display_name": "Python 2",
   "language": "python",
   "name": "python2"
  },
  "language_info": {
   "codemirror_mode": {
    "name": "ipython",
    "version": 2
   },
   "file_extension": ".py",
   "mimetype": "text/x-python",
   "name": "python",
   "nbconvert_exporter": "python",
   "pygments_lexer": "ipython2",
   "version": "2.7.11"
  }
 },
 "nbformat": 4,
 "nbformat_minor": 0
}
